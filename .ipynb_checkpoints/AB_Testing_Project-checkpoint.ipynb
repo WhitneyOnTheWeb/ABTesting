{
 "cells": [
  {
   "cell_type": "markdown",
   "metadata": {},
   "source": [
    "# A/B Testing\n",
    "#### P7:  Udacity Data Analyst Nanodegree\n",
    "#### Author:  Whitney King\n",
    "#### Date:  8/29/2017"
   ]
  },
  {
   "cell_type": "code",
   "execution_count": null,
   "metadata": {},
   "outputs": [],
   "source": [
    "# Load packages and settings\n",
    "install.packages('knitr', repos = \"http://cran.us.r-project.org\")\n",
    "library(knitr)\n",
    "knitr::opts_chunk$set(echo = FALSE)\n",
    "\n",
    "install.packages('ggplot2', repos = \"http://cran.us.r-project.org\")\n",
    "library(ggplot2)\n",
    "\n",
    "install.packages('rmarkdown', repos = \"http://cran.us.r-project.org\")\n",
    "library(rmarkdown)"
   ]
  },
  {
   "cell_type": "markdown",
   "metadata": {
    "collapsed": true
   },
   "source": [
    "## Experiment Design\n",
    "\n",
    "### Overview\n",
    "\n",
    "When this experiment was conducted, Udacity courses offer two options to visitors on the homepage: \n",
    "\n",
    "1. Start Free Trial\n",
    "  * If a student clicks start free trial, they will be prompted to enter payment information. Once entered, they will be enrolled into a free trial of their course program which will provide them full access to the course materials for 14 days, after which point they will be billed for the tuition if they don't opt to cancel the trial.\n",
    "\n",
    "2. Access Course Materials\n",
    "  * If a student clicks *access course materials*, they will be able to immediately view the course videos and take the quizzes for free, however they will not be given coaching, a verified certificate, and will not receive feedback on their projects."
   ]
  },
  {
   "cell_type": "code",
   "execution_count": null,
   "metadata": {
    "collapsed": true
   },
   "outputs": [],
   "source": []
  },
  {
   "cell_type": "markdown",
   "metadata": {},
   "source": [
    "### Hypothesis\n",
    "\n",
    "fblsbnsdlfvb"
   ]
  },
  {
   "cell_type": "code",
   "execution_count": null,
   "metadata": {
    "collapsed": true
   },
   "outputs": [],
   "source": []
  },
  {
   "cell_type": "markdown",
   "metadata": {},
   "source": [
    "### Metric Choice\n",
    "\n",
    "skdgnaslgjlkb"
   ]
  },
  {
   "cell_type": "code",
   "execution_count": null,
   "metadata": {
    "collapsed": true
   },
   "outputs": [],
   "source": []
  },
  {
   "cell_type": "markdown",
   "metadata": {},
   "source": [
    "### Measuring Standard Deviation\n",
    "\n",
    "svmsnvsn"
   ]
  },
  {
   "cell_type": "code",
   "execution_count": null,
   "metadata": {
    "collapsed": true
   },
   "outputs": [],
   "source": []
  },
  {
   "cell_type": "markdown",
   "metadata": {},
   "source": [
    "### Sizing\n",
    "\n",
    "#### 1. Number of Samples vs. Power\n",
    "svljwbngsgv\n",
    "\n",
    "#### 2. Duration vs. Exposure\n",
    "ehebljbnsvr"
   ]
  },
  {
   "cell_type": "code",
   "execution_count": null,
   "metadata": {
    "collapsed": true
   },
   "outputs": [],
   "source": []
  },
  {
   "cell_type": "markdown",
   "metadata": {},
   "source": [
    "## Experiment Analysis\n",
    "\n",
    "### Sanity Checks\n",
    "\n",
    "\n",
    "svksbngowbg"
   ]
  },
  {
   "cell_type": "code",
   "execution_count": null,
   "metadata": {
    "collapsed": true
   },
   "outputs": [],
   "source": []
  },
  {
   "cell_type": "markdown",
   "metadata": {},
   "source": [
    "### Result Analysis\n",
    "\n",
    "#### 1. Effect Size Tests\n",
    "svjbnsgvlsnwg\n",
    "\n",
    "#### 2. Sign Tests\n",
    "sgvsgbwsgbwbrb\n",
    "\n",
    "#### 3. Summary\n",
    "svlergnerglen\n"
   ]
  },
  {
   "cell_type": "code",
   "execution_count": null,
   "metadata": {
    "collapsed": true
   },
   "outputs": [],
   "source": []
  },
  {
   "cell_type": "markdown",
   "metadata": {},
   "source": [
    "### Recommendation\n",
    "\n",
    "svgwnglwgsbvlfv"
   ]
  },
  {
   "cell_type": "code",
   "execution_count": null,
   "metadata": {
    "collapsed": true
   },
   "outputs": [],
   "source": []
  },
  {
   "cell_type": "markdown",
   "metadata": {},
   "source": [
    "## Follow-Up Experiment"
   ]
  },
  {
   "cell_type": "code",
   "execution_count": null,
   "metadata": {
    "collapsed": true
   },
   "outputs": [],
   "source": []
  }
 ],
 "metadata": {
  "kernelspec": {
   "display_name": "R",
   "language": "R",
   "name": "ir"
  },
  "language_info": {
   "codemirror_mode": "r",
   "file_extension": ".r",
   "mimetype": "text/x-r-source",
   "name": "R",
   "pygments_lexer": "r",
   "version": "3.4.1"
  }
 },
 "nbformat": 4,
 "nbformat_minor": 2
}
