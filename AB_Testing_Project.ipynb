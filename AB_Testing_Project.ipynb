{
 "cells": [
  {
   "cell_type": "markdown",
   "metadata": {},
   "source": [
    "# A/B Testing\n",
    "#### P7:  Udacity Data Analyst Nanodegree\n",
    "#### Author:  Whitney King\n",
    "#### Date:  8/29/2017"
   ]
  },
  {
   "cell_type": "code",
   "execution_count": null,
   "metadata": {},
   "outputs": [],
   "source": [
    "# Load packages and settings\n",
    "install.packages('knitr', repos = \"http://cran.us.r-project.org\")\n",
    "library(knitr)\n",
    "knitr::opts_chunk$set(echo = FALSE)\n",
    "\n",
    "install.packages('ggplot2', repos = \"http://cran.us.r-project.org\")\n",
    "library(ggplot2)\n",
    "\n",
    "install.packages('rmarkdown', repos = \"http://cran.us.r-project.org\")\n",
    "library(rmarkdown)"
   ]
  },
  {
   "cell_type": "markdown",
   "metadata": {
    "collapsed": true
   },
   "source": [
    "## Experiment Design\n",
    "\n",
    "### Overview\n",
    "\n",
    "When this experiment was conducted, Udacity courses offer two options to visitors on the homepage: \n",
    "\n",
    "1. Start Free Trial\n",
    "  * If a student clicks *start free trial*, they will be prompted to enter payment information. Once entered, they will be enrolled into a free trial of their course program which will provide them full access to the course materials for 14 days, after which point they will be billed for the tuition if they don't opt to cancel the trial.\n",
    "2. Access Course Materials\n",
    "  * If a student clicks *access course materials*, they will be able to immediately view the course videos and take the quizzes for free, however they will not be given coaching support, a verified certificate, and will not receive feedback on their final projects.\n",
    "\n",
    "In the experiment, Udacity tested the following change where if the student clicked *start free trial*, they were asked how much time they had available to devote to the course:\n",
    "\n",
    "1. If the student indicated 5 or more hours per week, they would be taken through the checkout process as usual. \n",
    "2. If they indicated fewer than 5 hours per week, a message would appear indicating that Udacity courses usually require a greater time commitment for successful completion, and suggesting that the student might like to access the course materials for free. \n",
    "  * At this point, the student would have the option to continue enrolling in the free trial, or access the course materials for free instead. "
   ]
  },
  {
   "cell_type": "markdown",
   "metadata": {},
   "source": [
    "### Hypothesis\n",
    "\n",
    "Hypothesis testing should be done to determine the probability of the experiment results occuring by chance. A standard null hypothesis would be that there is no significant difference between the results of the control and experiment groups.\n",
    "\n",
    "The hypothesis was that this might set clearer expectations for students upfront, thus:\n",
    "\n",
    "1. Reducing the number of frustrated students who left the free trial because they didn't have enough time\n",
    "2. Without significantly reducing the number of students to continue past the free trial and eventually complete the course. \n",
    "\n",
    "If this hypothesis held true, Udacity could improve the overall student experience and improve coaches' capacity to support students who are likely to complete the course.\n",
    "\n",
    "The unit of diversion is a cookie, although if the student enrolls in the free trial, they are tracked by user-id from that point forward. The same user-id cannot enroll in the free trial twice. For users that do not enroll, their user-id is not tracked in the experiment, even if they were signed in when they visited the course overview page."
   ]
  },
  {
   "cell_type": "code",
   "execution_count": null,
   "metadata": {
    "collapsed": true
   },
   "outputs": [],
   "source": []
  },
  {
   "cell_type": "markdown",
   "metadata": {},
   "source": [
    "### Metric Choice\n",
    "\n",
    "skdgnaslgjlkb\n",
    "\n",
    "#### Invariant Metrics\n",
    "\n",
    "* Number of Cookies\n",
    "* Number of Clicks\n",
    "* Click-Through-Probablity\n",
    "* Number of user-ids (not selected)\n",
    "\n",
    "#### Evaluation Metrics\n",
    "\n",
    "* Gross Conversion\n",
    "* Retention\n",
    "* Net Conversion\n",
    "* Number of user-ids (not selected)"
   ]
  },
  {
   "cell_type": "code",
   "execution_count": null,
   "metadata": {
    "collapsed": true
   },
   "outputs": [],
   "source": []
  },
  {
   "cell_type": "markdown",
   "metadata": {},
   "source": [
    "### Measuring Standard Deviation\n",
    "\n",
    "svmsnvsn"
   ]
  },
  {
   "cell_type": "code",
   "execution_count": null,
   "metadata": {
    "collapsed": true
   },
   "outputs": [],
   "source": []
  },
  {
   "cell_type": "markdown",
   "metadata": {},
   "source": [
    "### Sizing\n",
    "\n",
    "#### 1. Number of Samples vs. Power\n",
    "svljwbngsgv\n",
    "\n",
    "#### 2. Duration vs. Exposure\n",
    "ehebljbnsvr"
   ]
  },
  {
   "cell_type": "code",
   "execution_count": null,
   "metadata": {
    "collapsed": true
   },
   "outputs": [],
   "source": []
  },
  {
   "cell_type": "markdown",
   "metadata": {},
   "source": [
    "## Experiment Analysis\n",
    "\n",
    "### Sanity Checks\n",
    "\n",
    "\n",
    "svksbngowbg"
   ]
  },
  {
   "cell_type": "code",
   "execution_count": null,
   "metadata": {
    "collapsed": true
   },
   "outputs": [],
   "source": []
  },
  {
   "cell_type": "markdown",
   "metadata": {},
   "source": [
    "### Result Analysis\n",
    "\n",
    "#### 1. Effect Size Tests\n",
    "svjbnsgvlsnwg\n",
    "\n",
    "#### 2. Sign Tests\n",
    "sgvsgbwsgbwbrb\n",
    "\n",
    "#### 3. Summary\n",
    "svlergnerglen\n"
   ]
  },
  {
   "cell_type": "code",
   "execution_count": null,
   "metadata": {
    "collapsed": true
   },
   "outputs": [],
   "source": []
  },
  {
   "cell_type": "markdown",
   "metadata": {},
   "source": [
    "### Recommendation\n",
    "\n",
    "svgwnglwgsbvlfv"
   ]
  },
  {
   "cell_type": "code",
   "execution_count": null,
   "metadata": {
    "collapsed": true
   },
   "outputs": [],
   "source": []
  },
  {
   "cell_type": "markdown",
   "metadata": {},
   "source": [
    "## Follow-Up Experiment"
   ]
  },
  {
   "cell_type": "code",
   "execution_count": null,
   "metadata": {
    "collapsed": true
   },
   "outputs": [],
   "source": []
  }
 ],
 "metadata": {
  "kernelspec": {
   "display_name": "R",
   "language": "R",
   "name": "ir"
  },
  "language_info": {
   "codemirror_mode": "r",
   "file_extension": ".r",
   "mimetype": "text/x-r-source",
   "name": "R",
   "pygments_lexer": "r",
   "version": "3.4.1"
  }
 },
 "nbformat": 4,
 "nbformat_minor": 2
}
